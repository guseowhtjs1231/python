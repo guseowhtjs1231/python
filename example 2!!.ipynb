{
 "cells": [
  {
   "cell_type": "markdown",
   "metadata": {},
   "source": [
    "Homework4 !!!!!"
   ]
  },
  {
   "cell_type": "code",
   "execution_count": 1,
   "metadata": {},
   "outputs": [
    {
     "name": "stdout",
     "output_type": "stream",
     "text": [
      "original func1 returns: 29, \n",
      "     new func1 returns: 29.\n",
      "original func2 returns: [34.6, 44.9, 68.3, 44.6, 12.7], \n",
      "     new func2 returns: [34.6, 44.9, 68.3, 44.6, 12.7].\n",
      "func3_square returns: [1, 4, 9, 16, 25, 36, 49, 64, 81]\n",
      "func4_cube_odd returns: [1, 27, 125, 343, 729, 1331, 2197, 3375, 4913, 6859]\n",
      "func5_vowel returns: ['A', 'I', 'A', 'E', 'A', 'U', 'E', 'U', 'O', 'E', 'E', 'O', 'E', 'O', 'E', 'I']\n"
     ]
    }
   ],
   "source": [
    "def func1():\n",
    "    # calculate the total length of words, ignore word like 'the'. All inputs are lower cases.\n",
    "    # this is the original function, do not change this function.\n",
    "    sentence = \"the quick brown fox jumps over the lazy dog\"\n",
    "    words = sentence.split()\n",
    "    word_lengths = []\n",
    "    for word in words:\n",
    "        if word != \"the\":\n",
    "            word_lengths.append(len(word))\n",
    "    return sum(word_lengths)\n",
    "\n",
    "def func1_list_comprehension():\n",
    "    # rewrite the 'func1' below in list comprehension to achieve the same functionality\n",
    "    # remove the 'pass' when you start coding, since 'pass' is only a placeholder\n",
    "    sentence = \"the quick brown fox jumps over the lazy dog\"\n",
    "    words1 = sentence.split()\n",
    "    word_lengths = [len(word) for word in words1 if word != \"the\"]\n",
    "    return(sum(word_lengths))\n",
    "\n",
    "def func2():\n",
    "    # form a new list, with only positive numbers in it\n",
    "    # this is the original function, do not change this function.\n",
    "    numbers = [34.6, -203.4, 44.9, 68.3, -12.2, 44.6, 12.7]\n",
    "    newlist = []\n",
    "    for n in numbers:\n",
    "        if n > 0:\n",
    "            newlist.append(n)\n",
    "    return newlist\n",
    "\n",
    "def func2_list_comprehension():\n",
    "    # rewrite the 'func2' below in list comprehension to achieve the same functionality\n",
    "    # remove the 'pass' when you start coding, since 'pass' is only a placeholder\n",
    "    numbers = [34.6,-203.4 , 44.9,68.3,-12.2,44.6,12.7]\n",
    "    newlist = [x for x in numbers if x>0]\n",
    "    return(newlist)\n",
    "\n",
    "def func3_square():\n",
    "    # use list comprehension to generate a new list of x ** 2,  (x = 1, 2, 3, ... 9, 10)\n",
    "    # return this new list, it should look like [1, 4, 9, ...]\n",
    "    newwlist=[x**2 for x in range(1,10)]\n",
    "    return(newwlist)\n",
    "\n",
    "def func4_cube_odd():\n",
    "    # use list comprehension to generate a new list of x * x * x, ( x = 1, 2, 3... 19, 20)\n",
    "    # only use the odd numbers like 1,3,5.\n",
    "    # Return a new list containing the cube of odd numbers like [1, 27, 125, ...]\n",
    "    newww = [x*x*x for x in range(1,21) if x%2==1]\n",
    "    return(newww)\n",
    "\n",
    "def func5_vowel():\n",
    "    # given a string 's'\n",
    "    # use list comprehension to generate a new list, that only consists of the vowel letters: AEIOU, from string 's'\n",
    "    # note, all input strings are capital letter.  Expect to return a new list of ['A', 'I', 'A', 'E', ....]\n",
    "    s = 'MATH IS A GREAT SUBJECT BUT NOT EVERYONE LOVES IT'\n",
    "    new1 = [x for x in s[::] if x==\"A\"or x== \"E\"or x== \"O\"or x==\"I\"or x==\"U\"]\n",
    "    return(new1)\n",
    "\n",
    "\n",
    "print('original func1 returns: %s, \\n     new func1 returns: %s.' % (func1(), func1_list_comprehension()))\n",
    "print('original func2 returns: %s, \\n     new func2 returns: %s.' % (func2(), func2_list_comprehension()))\n",
    "print('func3_square returns: %s' % func3_square())\n",
    "print('func4_cube_odd returns: %s' % func4_cube_odd())\n",
    "print('func5_vowel returns: %s' % func5_vowel())\n",
    "\n"
   ]
  },
  {
   "cell_type": "code",
   "execution_count": null,
   "metadata": {},
   "outputs": [],
   "source": []
  },
  {
   "cell_type": "markdown",
   "metadata": {},
   "source": [
    "mm"
   ]
  },
  {
   "cell_type": "code",
   "execution_count": 128,
   "metadata": {},
   "outputs": [],
   "source": [
    "def month_checker(mm):\n",
    "    \n",
    "    if mm <13 and mm>1:\n",
    "        print(mm,'is valid')\n",
    "    else:\n",
    "        print(mm,'is not valid')\n",
    "        \n"
   ]
  },
  {
   "cell_type": "code",
   "execution_count": 129,
   "metadata": {},
   "outputs": [
    {
     "name": "stdout",
     "output_type": "stream",
     "text": [
      "12 is valid\n"
     ]
    }
   ],
   "source": [
    "month_checker(12)"
   ]
  },
  {
   "cell_type": "code",
   "execution_count": 130,
   "metadata": {},
   "outputs": [],
   "source": [
    "def year_checker(y):\n",
    "    year = list(range(1,9999))\n",
    "    if y in year:\n",
    "        print(y,'is valid.')\n",
    "    else:\n",
    "        print(y,'is not valid.')"
   ]
  },
  {
   "cell_type": "code",
   "execution_count": 131,
   "metadata": {},
   "outputs": [
    {
     "name": "stdout",
     "output_type": "stream",
     "text": [
      "1991 is valid.\n"
     ]
    }
   ],
   "source": [
    "year_checker(1991)"
   ]
  },
  {
   "cell_type": "code",
   "execution_count": 156,
   "metadata": {},
   "outputs": [],
   "source": [
    "def date_checker(m,d,y):\n",
    "    month = list(range(1,13))\n",
    "    year = list(range(1,9999))\n",
    "    date28 = list(range(1,29))\n",
    "    date30 = list(range(1,31))\n",
    "    date31 = list(range(1,32))\n",
    "    if y in year:\n",
    "        if m ==2 :\n",
    "            if d in date28:\n",
    "                return \"{} / {} / {} is valid.\".format(m,d,y)\n",
    "            else:\n",
    "                return \"{} / {} / {} is not valid. Wrong date entered\".format(m,d,y)\n",
    "        elif m==1 or m==3 or m==5 or m==7 or m==8 or m==10 or m==12:\n",
    "            if d in date31:\n",
    "                return \"{} / {} / {} is valid.\".format(m,d,y)\n",
    "            else:\n",
    "                return \"{} / {} / {} is not valid. Wrong date entered\".format(m,d,y)\n",
    "            \n",
    "        else:\n",
    "            if d in date30:\n",
    "                return \"{} / {} / {} is valid.\".format(m,d,y)\n",
    "            else:\n",
    "                return \"{} / {} / {} is not valid. Wrong date entered\".format(m,d,y)\n",
    "                \n",
    "    else:\n",
    "        return \"{} / {} / {} is not valid. Wrong year entered\".format(m,d,y)\n",
    "    \n",
    "    "
   ]
  },
  {
   "cell_type": "code",
   "execution_count": 160,
   "metadata": {},
   "outputs": [
    {
     "data": {
      "text/plain": [
       "'12 / 31 / 1989 is valid.'"
      ]
     },
     "execution_count": 160,
     "metadata": {},
     "output_type": "execute_result"
    }
   ],
   "source": [
    "date_checker(12,31,1989)"
   ]
  },
  {
   "cell_type": "code",
   "execution_count": 134,
   "metadata": {},
   "outputs": [],
   "source": [
    "def sum100():\n",
    "\n",
    "    mylist = list(range(1,101))\n",
    "    return sum(mylist)\n"
   ]
  },
  {
   "cell_type": "code",
   "execution_count": 163,
   "metadata": {},
   "outputs": [
    {
     "data": {
      "text/plain": [
       "(5050, ['a', 'b', 'c', 'd', 'e', 'f'], 24)"
      ]
     },
     "execution_count": 163,
     "metadata": {},
     "output_type": "execute_result"
    }
   ],
   "source": [
    "def sum100():\n",
    "\n",
    "    mylist = list(range(1,101))\n",
    "    return sum(mylist)\n",
    "\n",
    "\n",
    "# problem 3.2\n",
    "def sorted_list(s):\n",
    "    my_list = list(s.split(','))\n",
    "    my_list.sort()\n",
    "    return my_list\n",
    "       \n",
    "\n",
    "\n",
    "# problem 3.3\n",
    "def count_word(t): # read instruction below on whether there's input args\n",
    "    for x in t:\n",
    "        x = list(t[::])\n",
    "        return len(t)\n",
    "\n",
    "\n",
    "def main():\n",
    "# call function in problem 3.1\n",
    "    return sum100(),sorted_list('e,f,a,d,b,c'),count_word('This is a beautiful day!')\n",
    "\n",
    "\n",
    "main()"
   ]
  },
  {
   "cell_type": "code",
   "execution_count": 164,
   "metadata": {},
   "outputs": [
    {
     "data": {
      "text/plain": [
       "(5050, ['a', 'b', 'c', 'd', 'e', 'f'], 24)"
      ]
     },
     "execution_count": 164,
     "metadata": {},
     "output_type": "execute_result"
    }
   ],
   "source": [
    "main()"
   ]
  },
  {
   "cell_type": "code",
   "execution_count": 144,
   "metadata": {},
   "outputs": [
    {
     "data": {
      "text/plain": [
       "[1, 2, 3, 4, 5]"
      ]
     },
     "execution_count": 144,
     "metadata": {},
     "output_type": "execute_result"
    }
   ],
   "source": [
    "a"
   ]
  },
  {
   "cell_type": "code",
   "execution_count": 4,
   "metadata": {},
   "outputs": [
    {
     "name": "stdout",
     "output_type": "stream",
     "text": [
      "First Line\n",
      "Before calling func3...\n",
      "Begin func3, input is:  10\n",
      "Begin func1\n",
      "Begin func2\n",
      "End func3\n",
      "After calling func3, returned value is:  None\n"
     ]
    }
   ],
   "source": [
    "print('First Line')\n",
    "def func1():\n",
    "    print('Begin func1')\n",
    "def func2():\n",
    "    print('Begin func2')\n",
    "\n",
    "def func3(x):\n",
    "    print('Begin func3, input is: ', x)\n",
    "    func1()\n",
    "    func2()\n",
    "    print('End func3')\n",
    "\n",
    "print('Before calling func3...')\n",
    "returned = func3(10)\n",
    "print('After calling func3, returned value is: ', returned)"
   ]
  },
  {
   "cell_type": "code",
   "execution_count": 8,
   "metadata": {},
   "outputs": [
    {
     "name": "stdout",
     "output_type": "stream",
     "text": [
      "Before add_interest, amount = [1000, 2200, 800, 360]\n",
      "After add_interest, amount = [1050.0, 2310.0, 840.0, 378.0]\n"
     ]
    }
   ],
   "source": [
    "def add_interest2(balances, rate):\n",
    "    for i, value in enumerate(balances):\n",
    "        balances[i] = value * (1 + rate)\n",
    "def caller():\n",
    "    amount = [1000, 2200, 800, 360]\n",
    "    rate = 0.05\n",
    "    \n",
    "    print(\"Before add_interest, amount =\", amount)\n",
    "    add_interest2(amount, rate)\n",
    "    print(\"After add_interest, amount =\", amount)\n",
    "caller()"
   ]
  },
  {
   "cell_type": "code",
   "execution_count": 16,
   "metadata": {},
   "outputs": [
    {
     "name": "stdout",
     "output_type": "stream",
     "text": [
      "After add_interest, amount = 1050.0\n"
     ]
    }
   ],
   "source": [
    "def add_interest1(a, r):\n",
    "    a = a * (1 + r)\n",
    "    return a\n",
    "def caller2():\n",
    "    amount = 1000\n",
    "    rate = 0.05\n",
    "    amount = add_interest1(amount, rate) # we save the return value to a variable\n",
    "    print(\"After add_interest, amount =\", amount)\n",
    "caller2()"
   ]
  },
  {
   "cell_type": "code",
   "execution_count": 22,
   "metadata": {},
   "outputs": [
    {
     "name": "stdout",
     "output_type": "stream",
     "text": [
      "The argument n is: 5\n",
      "The argument args has type: <class 'tuple'> and value: (6, 7, 8, 9, 10)\n",
      "The argument kwargs has type: <class 'dict'> and value: {'name': 'John', 'age': 23, 'score': 100.0}\n"
     ]
    }
   ],
   "source": [
    "def func(n, *args, **kwargs):\n",
    "    print('The argument n is:', n)\n",
    "    print('The argument args has type: %s and value: %s' % (type(args), args))\n",
    "    print('The argument kwargs has type: %s and value: %s' % (type(kwargs), kwargs))\n",
    "\n",
    "func(5, 6, 7, 8, 9, 10, name='John', age=23, score=100.0)"
   ]
  },
  {
   "cell_type": "code",
   "execution_count": 25,
   "metadata": {},
   "outputs": [
    {
     "data": {
      "text/plain": [
       "89"
      ]
     },
     "execution_count": 25,
     "metadata": {},
     "output_type": "execute_result"
    }
   ],
   "source": [
    "ord(\"Y\")"
   ]
  },
  {
   "cell_type": "code",
   "execution_count": 26,
   "metadata": {},
   "outputs": [
    {
     "data": {
      "text/plain": [
       "121"
      ]
     },
     "execution_count": 26,
     "metadata": {},
     "output_type": "execute_result"
    }
   ],
   "source": [
    "ord(\"y\")"
   ]
  },
  {
   "cell_type": "code",
   "execution_count": 27,
   "metadata": {},
   "outputs": [
    {
     "data": {
      "text/plain": [
       "'\\x00'"
      ]
     },
     "execution_count": 27,
     "metadata": {},
     "output_type": "execute_result"
    }
   ],
   "source": [
    "chr(0)"
   ]
  },
  {
   "cell_type": "code",
   "execution_count": 28,
   "metadata": {},
   "outputs": [
    {
     "data": {
      "text/plain": [
       "'\\x01'"
      ]
     },
     "execution_count": 28,
     "metadata": {},
     "output_type": "execute_result"
    }
   ],
   "source": [
    "chr(1)"
   ]
  },
  {
   "cell_type": "code",
   "execution_count": 29,
   "metadata": {},
   "outputs": [
    {
     "data": {
      "text/plain": [
       "'Y'"
      ]
     },
     "execution_count": 29,
     "metadata": {},
     "output_type": "execute_result"
    }
   ],
   "source": [
    "chr(89)"
   ]
  },
  {
   "cell_type": "code",
   "execution_count": 33,
   "metadata": {},
   "outputs": [
    {
     "data": {
      "text/plain": [
       "'ϼ'"
      ]
     },
     "execution_count": 33,
     "metadata": {},
     "output_type": "execute_result"
    }
   ],
   "source": [
    "chr(1020)"
   ]
  },
  {
   "cell_type": "code",
   "execution_count": 34,
   "metadata": {},
   "outputs": [],
   "source": [
    "def text_to_num():\n",
    "    print(\"This program converts a textual message into a sequence\")\n",
    "    print (\"of numbers representing the Unicode encoding of the message.\\n\")\n",
    "# Get the message to encode\n",
    "    message = input(\"Please enter a sentence to get unicode value of each char: \")\n",
    "    print(\"\\nHere are the Unicode values:\")\n",
    "# Loop through the message and print out the Unicode values for each char\n",
    "    for ch in message:\n",
    "        print(ord(ch), end=\", \") # observe what end=\", \" does\n",
    "# prints an empty line\n",
    "    print()"
   ]
  },
  {
   "cell_type": "code",
   "execution_count": 35,
   "metadata": {},
   "outputs": [
    {
     "name": "stdout",
     "output_type": "stream",
     "text": [
      "This program converts a textual message into a sequence\n",
      "of numbers representing the Unicode encoding of the message.\n",
      "\n",
      "Please enter a sentence to get unicode value of each char: Youngbin Ha\n",
      "\n",
      "Here are the Unicode values:\n",
      "89, 111, 117, 110, 103, 98, 105, 110, 32, 72, 97, \n"
     ]
    }
   ],
   "source": [
    "text_to_num()"
   ]
  },
  {
   "cell_type": "code",
   "execution_count": 40,
   "metadata": {},
   "outputs": [
    {
     "name": "stdout",
     "output_type": "stream",
     "text": [
      "89, 111, 117, 110, 103, 98, 105, 110, "
     ]
    }
   ],
   "source": [
    "message='Youngbin'\n",
    "for x in message:\n",
    "    print(ord(x),end=\", \")\n",
    "    "
   ]
  },
  {
   "cell_type": "code",
   "execution_count": 41,
   "metadata": {},
   "outputs": [
    {
     "name": "stdout",
     "output_type": "stream",
     "text": [
      "__main__\n"
     ]
    }
   ],
   "source": [
    "print(__name__)"
   ]
  },
  {
   "cell_type": "code",
   "execution_count": 42,
   "metadata": {},
   "outputs": [
    {
     "ename": "NameError",
     "evalue": "name '__main__' is not defined",
     "output_type": "error",
     "traceback": [
      "\u001b[0;31m---------------------------------------------------------------------------\u001b[0m",
      "\u001b[0;31mNameError\u001b[0m                                 Traceback (most recent call last)",
      "\u001b[0;32m<ipython-input-42-6920309160c5>\u001b[0m in \u001b[0;36m<module>\u001b[0;34m\u001b[0m\n\u001b[0;32m----> 1\u001b[0;31m \u001b[0mprint\u001b[0m\u001b[0;34m(\u001b[0m\u001b[0m__main__\u001b[0m\u001b[0;34m)\u001b[0m\u001b[0;34m\u001b[0m\u001b[0;34m\u001b[0m\u001b[0m\n\u001b[0m",
      "\u001b[0;31mNameError\u001b[0m: name '__main__' is not defined"
     ]
    }
   ],
   "source": [
    "print(__main__)"
   ]
  },
  {
   "cell_type": "code",
   "execution_count": 44,
   "metadata": {},
   "outputs": [
    {
     "name": "stdout",
     "output_type": "stream",
     "text": [
      "0 0.86\n",
      "1 0.61\n",
      "2 0.02\n"
     ]
    }
   ],
   "source": [
    "import random\n",
    "my_dict = {}\n",
    "for i in range(3):\n",
    "    my_dict[i]=round(random.random(),2)\n",
    "\n",
    "my_dict\n",
    "for k in my_dict.keys():\n",
    "    print(k,my_dict[k])"
   ]
  },
  {
   "cell_type": "code",
   "execution_count": 45,
   "metadata": {},
   "outputs": [
    {
     "name": "stdout",
     "output_type": "stream",
     "text": [
      "0 0.86\n",
      "1 0.61\n",
      "2 0.02\n"
     ]
    }
   ],
   "source": [
    "for k in my_dict.keys():\n",
    "    print(k,my_dict[k])"
   ]
  },
  {
   "cell_type": "code",
   "execution_count": null,
   "metadata": {},
   "outputs": [],
   "source": []
  },
  {
   "cell_type": "code",
   "execution_count": null,
   "metadata": {},
   "outputs": [],
   "source": []
  }
 ],
 "metadata": {
  "kernelspec": {
   "display_name": "Python 3",
   "language": "python",
   "name": "python3"
  },
  "language_info": {
   "codemirror_mode": {
    "name": "ipython",
    "version": 3
   },
   "file_extension": ".py",
   "mimetype": "text/x-python",
   "name": "python",
   "nbconvert_exporter": "python",
   "pygments_lexer": "ipython3",
   "version": "3.7.4"
  }
 },
 "nbformat": 4,
 "nbformat_minor": 2
}
