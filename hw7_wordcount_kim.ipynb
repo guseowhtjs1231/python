{
 "cells": [
  {
   "cell_type": "code",
   "execution_count": 41,
   "metadata": {},
   "outputs": [],
   "source": [
    "def count_paragraph():\n",
    "    import re\n",
    "    with open('/Users/youngbinha/desktop/Python/hw7/hw7_article.txt','r') as f:\n",
    "        data = f.read()\n",
    "    parsse=re.sub(\"[/™®–!—@'#$%^&;*()_+{}|:?><~’.,-]\",'',data)\n",
    "    \n",
    "\n",
    "    splitedparss=parsse.split('\\n\\n')\n",
    "    \n",
    "    \n",
    "    dic={ } \n",
    "    for index,x in enumerate(splitedparss):\n",
    "        dic[index]=x\n",
    "    print('Total number of paragraph is:',len(dic))"
   ]
  },
  {
   "cell_type": "code",
   "execution_count": 42,
   "metadata": {},
   "outputs": [
    {
     "name": "stdout",
     "output_type": "stream",
     "text": [
      "Total number of paragraph is: 12\n"
     ]
    }
   ],
   "source": [
    "count_paragraph()"
   ]
  },
  {
   "cell_type": "code",
   "execution_count": 43,
   "metadata": {},
   "outputs": [],
   "source": [
    "def count_word():\n",
    "    import re\n",
    "    with open('/Users/youngbinha/desktop/Python/hw7/hw7_article.txt','r') as f:\n",
    "        data = f.read()\n",
    "    parsse=re.sub(\"[/™®–!—@'#$%^&;*()_+{}|:?><~’.,-]\",'',data)\n",
    "    \n",
    "\n",
    "    splitedparss=parsse.split(' ')\n",
    "    dic={ } \n",
    "    for index,x in enumerate(splitedparss):\n",
    "        dic[index]=x\n",
    "    print('Total number of words are:',len(dic),'\\n')"
   ]
  },
  {
   "cell_type": "code",
   "execution_count": 44,
   "metadata": {},
   "outputs": [
    {
     "name": "stdout",
     "output_type": "stream",
     "text": [
      "Total number of words are: 1747 \n",
      "\n"
     ]
    }
   ],
   "source": [
    "count_word()"
   ]
  },
  {
   "cell_type": "code",
   "execution_count": 60,
   "metadata": {},
   "outputs": [],
   "source": [
    "def First_5_words():\n",
    "    import re\n",
    "    with open('/Users/youngbinha/desktop/Python/hw7/hw7_article.txt','r') as f:\n",
    "        data = f.read()\n",
    "    parsse=re.sub(\"[/™®–!—@'#$%^&;*()_+{}|:?><~’.,-]\",'',data)\n",
    "    \n",
    "\n",
    "    splitedparss=parsse.split()\n",
    "    \n",
    "    \n",
    "    dic={ } \n",
    "    for index,x in enumerate(splitedparss):\n",
    "        dic[index]=x\n",
    "    \n",
    "    i=[]\n",
    "    for t in range(5):\n",
    "        p=dic[t]\n",
    "        i.append(p)\n",
    "    print('First 5 words are:\\n',i,'\\n')"
   ]
  },
  {
   "cell_type": "code",
   "execution_count": 61,
   "metadata": {},
   "outputs": [
    {
     "name": "stdout",
     "output_type": "stream",
     "text": [
      "First 5 words are:\n",
      " ['Theres', 'never', 'been', 'a', 'better'] \n",
      "\n"
     ]
    }
   ],
   "source": [
    "First_5_words()"
   ]
  },
  {
   "cell_type": "code",
   "execution_count": 62,
   "metadata": {},
   "outputs": [],
   "source": [
    "def Last_5_words():\n",
    "    import re\n",
    "    with open('/Users/youngbinha/desktop/Python/hw7/hw7_article.txt','r') as f:\n",
    "        data = f.read()\n",
    "    parsse=re.sub(\"[/™®–!—@'#$%^&;*()_+{}|:?><~’.,-]\",'',data)\n",
    "    \n",
    "\n",
    "    splitedparss=parsse.split()\n",
    "    reversedsplitedparss=splitedparss[::-1]\n",
    "    \n",
    "    dic={ } \n",
    "    for index,x in enumerate(reversedsplitedparss):\n",
    "        dic[index]=x\n",
    "    \n",
    "    \n",
    "    \n",
    "    o=[]\n",
    "    for t in range(0,5,1):\n",
    "        k=dic[t]\n",
    "        o.append(k)\n",
    "    print('Last 5 words are:\\n',o[::-1],'\\n')"
   ]
  },
  {
   "cell_type": "code",
   "execution_count": 63,
   "metadata": {},
   "outputs": [
    {
     "name": "stdout",
     "output_type": "stream",
     "text": [
      "Last 5 words are:\n",
      " ['best', 'credit', 'cards', 'of', '2018'] \n",
      "\n"
     ]
    }
   ],
   "source": [
    "Last_5_words()"
   ]
  },
  {
   "cell_type": "code",
   "execution_count": 64,
   "metadata": {},
   "outputs": [],
   "source": [
    "def Top_5_words():\n",
    "    import re\n",
    "    with open('/Users/youngbinha/desktop/Python/hw7/hw7_article.txt','r') as f:\n",
    "        data = f.read()\n",
    "#\"\"\"----------------파일 집어넣음-------------\"\"\"\n",
    "    parsse=re.sub(\"[/™®–!—@'#$%^&;*()_+{}|:?><~’.,-]\",'',data)\n",
    "#\"\"\"----------------불순물제거-------------\"\"\"   \n",
    "    splitedparss=parsse.split()\n",
    "    \n",
    "#\"\"\"----------------불순물 제거한 걸 스플릿해서 단어별로 리스트-------------\"\"\"\n",
    "    \n",
    "    dic={ } \n",
    "    for index,x in enumerate(splitedparss):\n",
    "        dic[index]=x\n",
    "        \n",
    "#\"\"\"----------------딕셔너리로 만듬-------------\"\"\"    \n",
    "    \n",
    "    z={h:y.lower() for h,y in dic.items()}\n",
    "\n",
    "#\"\"\"----------------소문자로 만듬-------------\"\"\"    \n",
    "    \n",
    "\n",
    "    d=dict()\n",
    "    for b in z.values():\n",
    "        if b in d:\n",
    "            d[b]=d[b]+1\n",
    "        else:\n",
    "            d[b]=1\n",
    "    result = sorted(d.items(),key=lambda x: x[1], reverse=True)\n",
    "    print('Top 5 frequent words are:')        \n",
    "    for h1,h2 in result[:5]:\n",
    "        print(h1,':',h2)\n",
    "    "
   ]
  },
  {
   "cell_type": "code",
   "execution_count": 65,
   "metadata": {},
   "outputs": [
    {
     "name": "stdout",
     "output_type": "stream",
     "text": [
      "Top 5 frequent words are:\n",
      "the : 63\n",
      "you : 44\n",
      "for : 41\n",
      "on : 40\n",
      "card : 39\n"
     ]
    }
   ],
   "source": [
    "Top_5_words()"
   ]
  },
  {
   "cell_type": "code",
   "execution_count": 71,
   "metadata": {
    "scrolled": true
   },
   "outputs": [],
   "source": [
    "def Top_10_words():\n",
    "    import re\n",
    "    with open('/Users/youngbinha/desktop/Python/hw7/hw7_article.txt','r') as f:\n",
    "        data = f.read()\n",
    "#\"\"\"----------------파일 집어넣음-------------\"\"\"\n",
    "    parsse=re.sub(\"[/™®–!—@'#$%^&;*()_+{}|:?><~’.,-]\",'',data)\n",
    "#\"\"\"----------------불순물제거-------------\"\"\"   \n",
    "    splitedparss=parsse.split()\n",
    "    \n",
    "#\"\"\"----------------불순물 제거한 걸 스플릿해서 단어별로 리스트-------------\"\"\"\n",
    "    \n",
    "    dic={ } \n",
    "    for index,x in enumerate(splitedparss):\n",
    "        dic[index]=x\n",
    "        \n",
    "#\"\"\"----------------딕셔너리로 만듬-------------\"\"\"    \n",
    "    \n",
    "    z={h:y.lower() for h,y in dic.items()}\n",
    "\n",
    "#\"\"\"----------------소문자로 만듬-------------\"\"\"    \n",
    "    \n",
    "\n",
    "    d=dict()\n",
    "    for b in z.values():\n",
    "        if b in d:\n",
    "            d[b]=d[b]+1\n",
    "        else:\n",
    "            d[b]=1\n",
    "\n",
    "#\"\"\"----------------소문자로 된 것들을 이용해서 빈도수대로 정리함.-------------\"\"\"    \n",
    "    \n",
    "    result = sorted(d.items(),key=lambda x: x[1], reverse=True)\n",
    "\n",
    "#\"\"\"----------------결과물을 정렬하는데 key값을 내림차순으로 정렬함.-------------\"\"\"    \n",
    "\n",
    "    print('Top 10 frequent words are:')                \n",
    "    for h1,h2 in result[:10]:\n",
    "        print(h1,':',h2)\n",
    "    "
   ]
  },
  {
   "cell_type": "code",
   "execution_count": 66,
   "metadata": {
    "scrolled": false
   },
   "outputs": [
    {
     "name": "stdout",
     "output_type": "stream",
     "text": [
      "Top 10 frequent words are:\n",
      "the : 63\n",
      "you : 44\n",
      "for : 41\n",
      "on : 40\n",
      "card : 39\n",
      "a : 36\n",
      "of : 34\n",
      "your : 34\n",
      "with : 31\n",
      "to : 29\n"
     ]
    }
   ],
   "source": [
    "Top_10_words()"
   ]
  },
  {
   "cell_type": "code",
   "execution_count": 72,
   "metadata": {},
   "outputs": [],
   "source": [
    "def main():\n",
    "    count_paragraph()\n",
    "    count_word()\n",
    "    First_5_words()\n",
    "    Last_5_words()\n",
    "    Top_5_words()\n",
    "    Top_10_words()\n",
    "\n",
    "    \n",
    "    \n",
    "    \n",
    "    "
   ]
  },
  {
   "cell_type": "code",
   "execution_count": 73,
   "metadata": {
    "scrolled": true
   },
   "outputs": [
    {
     "name": "stdout",
     "output_type": "stream",
     "text": [
      "Total number of paragraph is: 12\n",
      "Total number of words are: 1747 \n",
      "\n",
      "First 5 words are:\n",
      " ['Theres', 'never', 'been', 'a', 'better'] \n",
      "\n",
      "Last 5 words are:\n",
      " ['best', 'credit', 'cards', 'of', '2018'] \n",
      "\n",
      "Top 5 frequent words are:\n",
      "the : 63\n",
      "you : 44\n",
      "for : 41\n",
      "on : 40\n",
      "card : 39\n",
      "Top 10 frequent words are:\n",
      "the : 63\n",
      "you : 44\n",
      "for : 41\n",
      "on : 40\n",
      "card : 39\n",
      "a : 36\n",
      "of : 34\n",
      "your : 34\n",
      "with : 31\n",
      "to : 29\n"
     ]
    }
   ],
   "source": [
    "main()"
   ]
  },
  {
   "cell_type": "code",
   "execution_count": null,
   "metadata": {},
   "outputs": [],
   "source": []
  },
  {
   "cell_type": "code",
   "execution_count": null,
   "metadata": {},
   "outputs": [],
   "source": []
  },
  {
   "cell_type": "code",
   "execution_count": null,
   "metadata": {
    "scrolled": true
   },
   "outputs": [],
   "source": []
  },
  {
   "cell_type": "code",
   "execution_count": null,
   "metadata": {},
   "outputs": [],
   "source": []
  },
  {
   "cell_type": "code",
   "execution_count": null,
   "metadata": {},
   "outputs": [],
   "source": []
  },
  {
   "cell_type": "code",
   "execution_count": 48,
   "metadata": {},
   "outputs": [],
   "source": []
  },
  {
   "cell_type": "code",
   "execution_count": null,
   "metadata": {},
   "outputs": [],
   "source": []
  },
  {
   "cell_type": "code",
   "execution_count": 49,
   "metadata": {},
   "outputs": [],
   "source": []
  },
  {
   "cell_type": "code",
   "execution_count": null,
   "metadata": {},
   "outputs": [],
   "source": []
  },
  {
   "cell_type": "markdown",
   "metadata": {},
   "source": []
  },
  {
   "cell_type": "code",
   "execution_count": null,
   "metadata": {},
   "outputs": [],
   "source": []
  },
  {
   "cell_type": "code",
   "execution_count": null,
   "metadata": {},
   "outputs": [],
   "source": []
  },
  {
   "cell_type": "code",
   "execution_count": 56,
   "metadata": {},
   "outputs": [],
   "source": []
  },
  {
   "cell_type": "code",
   "execution_count": null,
   "metadata": {},
   "outputs": [],
   "source": []
  },
  {
   "cell_type": "code",
   "execution_count": 58,
   "metadata": {},
   "outputs": [],
   "source": []
  },
  {
   "cell_type": "code",
   "execution_count": null,
   "metadata": {},
   "outputs": [],
   "source": []
  },
  {
   "cell_type": "code",
   "execution_count": null,
   "metadata": {},
   "outputs": [],
   "source": []
  }
 ],
 "metadata": {
  "kernelspec": {
   "display_name": "Python 3",
   "language": "python",
   "name": "python3"
  },
  "language_info": {
   "codemirror_mode": {
    "name": "ipython",
    "version": 3
   },
   "file_extension": ".py",
   "mimetype": "text/x-python",
   "name": "python",
   "nbconvert_exporter": "python",
   "pygments_lexer": "ipython3",
   "version": "3.7.4"
  }
 },
 "nbformat": 4,
 "nbformat_minor": 2
}
